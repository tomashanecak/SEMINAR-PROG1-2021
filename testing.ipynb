{
 "cells": [
  {
   "cell_type": "code",
   "execution_count": 7,
   "metadata": {},
   "outputs": [
    {
     "name": "stdout",
     "output_type": "stream",
     "text": [
      " 100\n",
      "  101\n",
      "   102\n",
      "    103\n",
      "     104\n",
      "      105\n",
      "       106\n",
      "        107\n",
      "         108\n",
      "          109\n"
     ]
    }
   ],
   "source": [
    "x = \" \"\n",
    "for i in range(100,110):\n",
    "    print((x + str(i)))\n",
    "    x += \" \""
   ]
  }
 ],
 "metadata": {
  "interpreter": {
   "hash": "48f6610e0d19249c7c0a557799962c76a4d6a98043d8f7b5fa30edd4a2279173"
  },
  "kernelspec": {
   "display_name": "Python 3.8.5 64-bit ('base': conda)",
   "name": "python3"
  },
  "language_info": {
   "codemirror_mode": {
    "name": "ipython",
    "version": 3
   },
   "file_extension": ".py",
   "mimetype": "text/x-python",
   "name": "python",
   "nbconvert_exporter": "python",
   "pygments_lexer": "ipython3",
   "version": "3.8.5"
  },
  "orig_nbformat": 4
 },
 "nbformat": 4,
 "nbformat_minor": 2
}