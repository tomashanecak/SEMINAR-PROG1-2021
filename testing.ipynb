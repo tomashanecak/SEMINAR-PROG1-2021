{
 "cells": [
  {
   "cell_type": "code",
   "execution_count": null,
   "metadata": {},
   "outputs": [],
   "source": [
    "x = \" \"\n",
    "for i in range(100,110):\n",
    "    print((x + str(i)))\n",
    "    x += \" \""
   ]
  },
  {
   "cell_type": "code",
   "execution_count": null,
   "metadata": {},
   "outputs": [],
   "source": [
    "summ = 0\n",
    "mult = 1\n",
    "for i in range(10):\n",
    "    summ += i\n",
    "    mult = mult * (i + 1)\n",
    "    \n",
    "\n",
    "print(\"Súčet prvých 10 čísel je: \", summ)\n",
    "print(\"Súčin prvých 10 čísel je: \", mult)"
   ]
  },
  {
   "cell_type": "code",
   "execution_count": null,
   "metadata": {},
   "outputs": [],
   "source": [
    "begin = int(1)\n",
    "finish = int(10)\n",
    "\n",
    "summ = 0\n",
    "mult = begin\n",
    "for i in range(begin, finish):\n",
    "    summ += i\n",
    "    mult *= i\n",
    "\n",
    "print(\"Súčet prvých 10 čísel je: \", summ)\n",
    "print(\"Súčin prvých 10 čísel je: \", mult)\n",
    "\n"
   ]
  },
  {
   "cell_type": "code",
   "execution_count": 30,
   "metadata": {},
   "outputs": [
    {
     "name": "stdout",
     "output_type": "stream",
     "text": [
      "4.0\n"
     ]
    }
   ],
   "source": [
    "##Vstupuje 7 reálnych čísel, zistite ich aritmetický priemer, výsledok zaokrúhliť na 2 desatiné miesta\n",
    "arr = []\n",
    "result = 0\n",
    "summ = 0\n",
    "\n",
    "for i in range(7):\n",
    "    arr.append(float(input(\"Zadaj reálne číslo: \")))\n",
    "\n",
    "for i in arr:\n",
    "    summ += i\n",
    "\n",
    "result = summ / len(arr)\n",
    "print(round(result, 2))"
   ]
  },
  {
   "cell_type": "code",
   "execution_count": 29,
   "metadata": {},
   "outputs": [
    {
     "name": "stdout",
     "output_type": "stream",
     "text": [
      "44.84\n"
     ]
    }
   ],
   "source": [
    "##Počítač generuje 50 náhodných čísel z intervalu 5-99...zistite ich aritmetický priemer\n",
    "import random\n",
    "summ = 0\n",
    "\n",
    "for i in range(50):\n",
    "    summ += random.randint(5,99)\n",
    "\n",
    "result = summ/50\n",
    "print(result)\n",
    "\n"
   ]
  }
 ],
 "metadata": {
  "interpreter": {
   "hash": "48f6610e0d19249c7c0a557799962c76a4d6a98043d8f7b5fa30edd4a2279173"
  },
  "kernelspec": {
   "display_name": "Python 3.8.5 64-bit ('base': conda)",
   "name": "python3"
  },
  "language_info": {
   "codemirror_mode": {
    "name": "ipython",
    "version": 3
   },
   "file_extension": ".py",
   "mimetype": "text/x-python",
   "name": "python",
   "nbconvert_exporter": "python",
   "pygments_lexer": "ipython3",
   "version": "3.8.5"
  },
  "orig_nbformat": 4
 },
 "nbformat": 4,
 "nbformat_minor": 2
}