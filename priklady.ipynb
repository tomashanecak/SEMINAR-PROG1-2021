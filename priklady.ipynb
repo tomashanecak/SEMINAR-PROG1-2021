{
 "cells": [
  {
   "cell_type": "code",
   "execution_count": null,
   "metadata": {},
   "outputs": [],
   "source": [
    "x = \" \"\n",
    "for i in range(100,110):\n",
    "    print((x + str(i)))\n",
    "    x += \" \""
   ]
  },
  {
   "cell_type": "code",
   "execution_count": null,
   "metadata": {},
   "outputs": [],
   "source": [
    "summ = 0\n",
    "mult = 1\n",
    "for i in range(10):\n",
    "    summ += i\n",
    "    mult = mult * (i + 1)\n",
    "    \n",
    "\n",
    "print(\"Súčet prvých 10 čísel je: \", summ)\n",
    "print(\"Súčin prvých 10 čísel je: \", mult)"
   ]
  },
  {
   "cell_type": "code",
   "execution_count": null,
   "metadata": {},
   "outputs": [],
   "source": [
    "begin = int(1)\n",
    "finish = int(10)\n",
    "\n",
    "summ = 0\n",
    "mult = begin\n",
    "for i in range(begin, finish):\n",
    "    summ += i\n",
    "    mult *= i\n",
    "\n",
    "print(\"Súčet prvých 10 čísel je: \", summ)\n",
    "print(\"Súčin prvých 10 čísel je: \", mult)\n",
    "\n"
   ]
  },
  {
   "cell_type": "code",
   "execution_count": null,
   "metadata": {},
   "outputs": [],
   "source": [
    "##Vstupuje 7 reálnych čísel, zistite ich aritmetický priemer, výsledok zaokrúhliť na 2 desatiné miesta\n",
    "arr = []\n",
    "result = 0\n",
    "summ = 0\n",
    "\n",
    "for i in range(7):\n",
    "    arr.append(float(input(\"Zadaj reálne číslo: \")))\n",
    "\n",
    "for i in arr:\n",
    "    summ += i\n",
    "\n",
    "result = summ / len(arr)\n",
    "print(round(result, 2))"
   ]
  },
  {
   "cell_type": "code",
   "execution_count": null,
   "metadata": {},
   "outputs": [],
   "source": [
    "##Počítač generuje 50 náhodných čísel z intervalu 5-99...zistite ich aritmetický priemer\n",
    "import random\n",
    "summ = 0\n",
    "rand = 0\n",
    "\n",
    "for i in range(50):\n",
    "    rand = random.randint(5,99)\n",
    "    summ += rand\n",
    "    print(\"Generované číslo č.\" , i , \"je: \", rand)\n",
    "\n",
    "result = round(summ/50, 2)\n",
    "print(\"Priemer: \", result)"
   ]
  },
  {
   "cell_type": "code",
   "execution_count": 12,
   "metadata": {},
   "outputs": [
    {
     "name": "stdout",
     "output_type": "stream",
     "text": [
      "189 / 99 = 1 a zvyšok po delení je 90\n",
      "111 / 139 = 0 a zvyšok po delení je 111\n",
      "198 / 80 = 2 a zvyšok po delení je 38\n",
      "91 / 41 = 2 a zvyšok po delení je 9\n",
      "103 / 7 = 14 a zvyšok po delení je 5\n"
     ]
    }
   ],
   "source": [
    "## celočíselne delenie // , zvyšok po celočíselnom delení %\n",
    "## ===== Počitač generuje 5 dvojíc čísel z intervalu 5-200, vypíš každé vygenerované čislo a jeho delitelnosť druhým čislom a zvyšok ======\n",
    "import random\n",
    "\n",
    "x = 0\n",
    "y = 0\n",
    "division = 0\n",
    "modulo = 0\n",
    "\n",
    "for i in range(5):\n",
    "    x = random.randint(5,200)\n",
    "    y = random.randint(5,200)\n",
    "\n",
    "    division = x // y\n",
    "    modulo = x % y\n",
    "\n",
    "    print(\"{0} / {1} = {2} a zvyšok po delení je {3}\".format(x, y, division, modulo))"
   ]
  },
  {
   "cell_type": "code",
   "execution_count": 23,
   "metadata": {},
   "outputs": [
    {
     "name": "stdout",
     "output_type": "stream",
     "text": [
      "43 / 19 = 2 a zvyšok po delení je 5\n",
      "94 / 70 = 1 a zvyšok po delení je 24\n",
      "173 / 73 = 2 a zvyšok po delení je 27\n",
      "192 / 54 = 3 a zvyšok po delení je 30\n",
      "186 / 62 = 3 a zvyšok po delení je 0\n"
     ]
    }
   ],
   "source": [
    "##To isté čo predošlé ale vždy > číslo delíme < číslom\n",
    "import random\n",
    "\n",
    "x = 0\n",
    "y = 0\n",
    "division = 0\n",
    "modulo = 0\n",
    "\n",
    "for i in range(5):\n",
    "    x = random.randint(5,200)\n",
    "    y = random.randint(5,200)\n",
    "\n",
    "    if x < y: x,y = y,x\n",
    "    \n",
    "    division = x // y\n",
    "    modulo = x % y\n",
    "\n",
    "    print(\"{0} / {1} = {2} a zvyšok po delení je {3}\".format(x, y, division, modulo))\n"
   ]
  },
  {
   "cell_type": "code",
   "execution_count": 31,
   "metadata": {},
   "outputs": [
    {
     "name": "stdout",
     "output_type": "stream",
     "text": [
      "Číslo 224 je deliteľné číslom 7\n",
      "Číslo 637 je deliteľné číslom 7\n",
      "Číslo 840 je deliteľné číslom 7\n",
      "Číslo 938 je deliteľné číslom 7\n",
      "Číslo 602 je deliteľné číslom 7\n",
      "648.2\n"
     ]
    }
   ],
   "source": [
    "##Počítať generuje 30 čísel z intervalu 2-999 A)vypíšte čísla delitelné 7 a určte ich AP B) vypíšte čísla, ktorých posledná cifra je delitelná 3 a ich AP\n",
    "import random\n",
    "number = 0\n",
    "DivisibeBySeven = []\n",
    "ap1 = 0\n",
    "ap2 = 0\n",
    "\n",
    "for i in range(30):\n",
    "    number = random.randint(2,999)\n",
    "\n",
    "    if number % 7 == 0:\n",
    "        print(\"Číslo {0} je deliteľné číslom 7\".format(number))\n",
    "        DivisibeBySeven.append(number)\n",
    "\n",
    "ap1 = sum(DivisibeBySeven)/len(DivisibeBySeven)\n",
    "print(ap1)\n",
    "\n"
   ]
  }
 ],
 "metadata": {
  "interpreter": {
   "hash": "48f6610e0d19249c7c0a557799962c76a4d6a98043d8f7b5fa30edd4a2279173"
  },
  "kernelspec": {
   "display_name": "Python 3.8.5 64-bit ('base': conda)",
   "name": "python3"
  },
  "language_info": {
   "codemirror_mode": {
    "name": "ipython",
    "version": 3
   },
   "file_extension": ".py",
   "mimetype": "text/x-python",
   "name": "python",
   "nbconvert_exporter": "python",
   "pygments_lexer": "ipython3",
   "version": "3.8.5"
  },
  "orig_nbformat": 4
 },
 "nbformat": 4,
 "nbformat_minor": 2
}